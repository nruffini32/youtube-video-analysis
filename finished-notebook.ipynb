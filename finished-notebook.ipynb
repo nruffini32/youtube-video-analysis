{
 "cells": [
  {
   "attachments": {
    "YouTube_logo_%282017%29.png": {
     "image/png": "[encoded data removed]"
    }
   },
   "cell_type": "markdown",
   "id": "da48c2c3",
   "metadata": {},
   "source": [
    "# **<p style=\"text-align: center;\">Youtube Video Statistics Data Science Project</p>**\n",
    "![YouTube_logo_%282017%29.png](attachment:YouTube_logo_%282017%29.png)\n",
    "\n",
    "## About Dataset\n",
    "\n",
    "This dataset contains two files with statistics on 1,881 YouTube videos\n",
    "and their comments.\n",
    "\n",
    "### video-stats.csv\n",
    "\n",
    "-   **Title:** Video Title\n",
    "-   **Video ID:** The Video Identifier.\n",
    "-   **Published At:** The date the video was published in YYYY-MM-DD.\n",
    "-   **Keyword:** The keyword associated with the video.\n",
    "-   **Likes:** The number of likes the video received. If this value is\n",
    "    -1, the likes are not publicly visible.\n",
    "-   **Comments:** The number of comments the video has. If this value is\n",
    "    -1, the video creator has disabled comments.\n",
    "-   **Views:** The number of views the video got.\n",
    "\n",
    "### comments.csv:\n",
    "\n",
    "-   **Video ID:** The Video Identifier.\n",
    "-   **Comment:** The comment text.\n",
    "-   **Likes:** The number of likes the comment received.\n",
    "-   **Sentiment:** The sentiment of the comment. A value of 0 represents\n",
    "    a negative sentiment, while values of 1 or 2 represent neutral and\n",
    "    positive sentiments respectively.\n",
    "    \n",
    "## Purpose\n",
    "\n",
    "The purpose of analyzing this dataset was to explore what makes a \"good\"\n",
    "video and see if we could predict whether a video performed well or\n",
    "poorly based on its video and comment statistics. A good video and a bad\n",
    "video were determined besed upon its like to view ratio\n",
    "(`like_conversion_rate`). We thought this would be the best way to\n",
    "determine the quality of the video because it does depend on viral\n",
    "status or high view count to determine the quality of the video. Before\n",
    "we began the project we knew we would have some limitations with the\n",
    "dataset and would need more metrics to fit an accurate model. For\n",
    "example, we knew that you can only like a video once where as you can\n",
    "watch the video multiple times. With that being said, another one of our\n",
    "goals was to be able to add features that are highly correlated to\n",
    "`like_conversion_rate` to the dataset that would help improve the\n",
    "overall accuracy of our model and assist in determining what is a good,\n",
    "nuetral, or bad video."
   ]
  },
  {
   "cell_type": "markdown",
   "id": "9642f72f",
   "metadata": {},
   "source": [
    "# Importing Libraries"
   ]
  },
  {
   "cell_type": "code",
   "execution_count": 2,
   "id": "a9313516",
   "metadata": {},
   "outputs": [
    {
     "name": "stderr",
     "output_type": "stream",
     "text": [
      "[nltk_data] Downloading package stopwords to\n",
      "[nltk_data]     /Users/nicoloruffini/nltk_data...\n",
      "[nltk_data]   Package stopwords is already up-to-date!\n",
      "[nltk_data] Downloading package vader_lexicon to\n",
      "[nltk_data]     /Users/nicoloruffini/nltk_data...\n",
      "[nltk_data]   Package vader_lexicon is already up-to-date!\n"
     ]
    },
    {
     "data": {
      "text/plain": [
       "True"
      ]
     },
     "execution_count": 2,
     "metadata": {},
     "output_type": "execute_result"
    }
   ],
   "source": [
    "import pandas as pd\n",
    "import seaborn as sns\n",
    "import numpy as np\n",
    "import matplotlib as plt\n",
    "import datetime as dt\n",
    "import matplotlib.pyplot as plt\n",
    "from matplotlib.pyplot import figure\n",
    "import warnings\n",
    "warnings.filterwarnings('ignore')\n",
    "\n",
    "import nltk\n",
    "from nltk.corpus import stopwords\n",
    "from nltk.sentiment.vader import SentimentIntensityAnalyzer\n",
    "nltk.download('stopwords')\n",
    "nltk.download('vader_lexicon')"
   ]
  },
  {
   "cell_type": "markdown",
   "id": "2dc67ddc",
   "metadata": {},
   "source": [
    "# Loading and Describing Datasets"
   ]
  },
  {
   "cell_type": "code",
   "execution_count": 3,
   "id": "2882c5fd",
   "metadata": {},
   "outputs": [],
   "source": [
    "videos = pd.read_csv(\"videos-stats.csv\")\n",
    "comments = pd.read_csv(\"comments.csv\")"
   ]
  },
  {
   "cell_type": "code",
   "execution_count": 4,
   "id": "04a8e2bd",
   "metadata": {},
   "outputs": [
    {
     "data": {
      "text/html": [
       "<div>\n",
       "<style scoped>\n",
       "    .dataframe tbody tr th:only-of-type {\n",
       "        vertical-align: middle;\n",
       "    }\n",
       "\n",
       "    .dataframe tbody tr th {\n",
       "        vertical-align: top;\n",
       "    }\n",
       "\n",
       "    .dataframe thead th {\n",
       "        text-align: right;\n",
       "    }\n",
       "</style>\n",
       "<table border=\"1\" class=\"dataframe\">\n",
       "  <thead>\n",
       "    <tr style=\"text-align: right;\">\n",
       "      <th></th>\n",
       "      <th>Unnamed: 0</th>\n",
       "      <th>Title</th>\n",
       "      <th>Video ID</th>\n",
       "      <th>Published At</th>\n",
       "      <th>Keyword</th>\n",
       "      <th>Likes</th>\n",
       "      <th>Comments</th>\n",
       "      <th>Views</th>\n",
       "    </tr>\n",
       "  </thead>\n",
       "  <tbody>\n",
       "    <tr>\n",
       "      <th>0</th>\n",
       "      <td>0</td>\n",
       "      <td>Apple Pay Is Killing the Physical Wallet After...</td>\n",
       "      <td>wAZZ-UWGVHI</td>\n",
       "      <td>2022-08-23</td>\n",
       "      <td>tech</td>\n",
       "      <td>3407.0</td>\n",
       "      <td>672.0</td>\n",
       "      <td>135612.0</td>\n",
       "    </tr>\n",
       "    <tr>\n",
       "      <th>1</th>\n",
       "      <td>1</td>\n",
       "      <td>The most EXPENSIVE thing I own.</td>\n",
       "      <td>b3x28s61q3c</td>\n",
       "      <td>2022-08-24</td>\n",
       "      <td>tech</td>\n",
       "      <td>76779.0</td>\n",
       "      <td>4306.0</td>\n",
       "      <td>1758063.0</td>\n",
       "    </tr>\n",
       "    <tr>\n",
       "      <th>2</th>\n",
       "      <td>2</td>\n",
       "      <td>My New House Gaming Setup is SICK!</td>\n",
       "      <td>4mgePWWCAmA</td>\n",
       "      <td>2022-08-23</td>\n",
       "      <td>tech</td>\n",
       "      <td>63825.0</td>\n",
       "      <td>3338.0</td>\n",
       "      <td>1564007.0</td>\n",
       "    </tr>\n",
       "    <tr>\n",
       "      <th>3</th>\n",
       "      <td>3</td>\n",
       "      <td>Petrol Vs Liquid Nitrogen | Freezing Experimen...</td>\n",
       "      <td>kXiYSI7H2b0</td>\n",
       "      <td>2022-08-23</td>\n",
       "      <td>tech</td>\n",
       "      <td>71566.0</td>\n",
       "      <td>1426.0</td>\n",
       "      <td>922918.0</td>\n",
       "    </tr>\n",
       "    <tr>\n",
       "      <th>4</th>\n",
       "      <td>4</td>\n",
       "      <td>Best Back to School Tech 2022!</td>\n",
       "      <td>ErMwWXQxHp0</td>\n",
       "      <td>2022-08-08</td>\n",
       "      <td>tech</td>\n",
       "      <td>96513.0</td>\n",
       "      <td>5155.0</td>\n",
       "      <td>1855644.0</td>\n",
       "    </tr>\n",
       "  </tbody>\n",
       "</table>\n",
       "</div>"
      ],
      "text/plain": [
       "   Unnamed: 0                                              Title     Video ID  \\\n",
       "0           0  Apple Pay Is Killing the Physical Wallet After...  wAZZ-UWGVHI   \n",
       "1           1                    The most EXPENSIVE thing I own.  b3x28s61q3c   \n",
       "2           2                 My New House Gaming Setup is SICK!  4mgePWWCAmA   \n",
       "3           3  Petrol Vs Liquid Nitrogen | Freezing Experimen...  kXiYSI7H2b0   \n",
       "4           4                     Best Back to School Tech 2022!  ErMwWXQxHp0   \n",
       "\n",
       "  Published At Keyword    Likes  Comments      Views  \n",
       "0   2022-08-23    tech   3407.0     672.0   135612.0  \n",
       "1   2022-08-24    tech  76779.0    4306.0  1758063.0  \n",
       "2   2022-08-23    tech  63825.0    3338.0  1564007.0  \n",
       "3   2022-08-23    tech  71566.0    1426.0   922918.0  \n",
       "4   2022-08-08    tech  96513.0    5155.0  1855644.0  "
      ]
     },
     "execution_count": 4,
     "metadata": {},
     "output_type": "execute_result"
    }
   ],
   "source": [
    "videos.head()"
   ]
  },
  {
   "cell_type": "code",
   "execution_count": 5,
   "id": "375efc37",
   "metadata": {},
   "outputs": [
    {
     "data": {
      "text/html": [
       "<div>\n",
       "<style scoped>\n",
       "    .dataframe tbody tr th:only-of-type {\n",
       "        vertical-align: middle;\n",
       "    }\n",
       "\n",
       "    .dataframe tbody tr th {\n",
       "        vertical-align: top;\n",
       "    }\n",
       "\n",
       "    .dataframe thead th {\n",
       "        text-align: right;\n",
       "    }\n",
       "</style>\n",
       "<table border=\"1\" class=\"dataframe\">\n",
       "  <thead>\n",
       "    <tr style=\"text-align: right;\">\n",
       "      <th></th>\n",
       "      <th>Unnamed: 0</th>\n",
       "      <th>Video ID</th>\n",
       "      <th>Comment</th>\n",
       "      <th>Likes</th>\n",
       "      <th>Sentiment</th>\n",
       "    </tr>\n",
       "  </thead>\n",
       "  <tbody>\n",
       "    <tr>\n",
       "      <th>0</th>\n",
       "      <td>0</td>\n",
       "      <td>wAZZ-UWGVHI</td>\n",
       "      <td>Let's not forget that Apple Pay in 2014 requir...</td>\n",
       "      <td>95.0</td>\n",
       "      <td>1.0</td>\n",
       "    </tr>\n",
       "    <tr>\n",
       "      <th>1</th>\n",
       "      <td>1</td>\n",
       "      <td>wAZZ-UWGVHI</td>\n",
       "      <td>Here in NZ 50% of retailers don’t even have co...</td>\n",
       "      <td>19.0</td>\n",
       "      <td>0.0</td>\n",
       "    </tr>\n",
       "    <tr>\n",
       "      <th>2</th>\n",
       "      <td>2</td>\n",
       "      <td>wAZZ-UWGVHI</td>\n",
       "      <td>I will forever acknowledge this channel with t...</td>\n",
       "      <td>161.0</td>\n",
       "      <td>2.0</td>\n",
       "    </tr>\n",
       "    <tr>\n",
       "      <th>3</th>\n",
       "      <td>3</td>\n",
       "      <td>wAZZ-UWGVHI</td>\n",
       "      <td>Whenever I go to a place that doesn’t take App...</td>\n",
       "      <td>8.0</td>\n",
       "      <td>0.0</td>\n",
       "    </tr>\n",
       "    <tr>\n",
       "      <th>4</th>\n",
       "      <td>4</td>\n",
       "      <td>wAZZ-UWGVHI</td>\n",
       "      <td>Apple Pay is so convenient, secure, and easy t...</td>\n",
       "      <td>34.0</td>\n",
       "      <td>2.0</td>\n",
       "    </tr>\n",
       "  </tbody>\n",
       "</table>\n",
       "</div>"
      ],
      "text/plain": [
       "   Unnamed: 0     Video ID                                            Comment  \\\n",
       "0           0  wAZZ-UWGVHI  Let's not forget that Apple Pay in 2014 requir...   \n",
       "1           1  wAZZ-UWGVHI  Here in NZ 50% of retailers don’t even have co...   \n",
       "2           2  wAZZ-UWGVHI  I will forever acknowledge this channel with t...   \n",
       "3           3  wAZZ-UWGVHI  Whenever I go to a place that doesn’t take App...   \n",
       "4           4  wAZZ-UWGVHI  Apple Pay is so convenient, secure, and easy t...   \n",
       "\n",
       "   Likes  Sentiment  \n",
       "0   95.0        1.0  \n",
       "1   19.0        0.0  \n",
       "2  161.0        2.0  \n",
       "3    8.0        0.0  \n",
       "4   34.0        2.0  "
      ]
     },
     "execution_count": 5,
     "metadata": {},
     "output_type": "execute_result"
    }
   ],
   "source": [
    "comments.head()"
   ]
  },
  {
   "cell_type": "code",
   "execution_count": 6,
   "id": "3a20ff8e",
   "metadata": {},
   "outputs": [
    {
     "data": {
      "text/html": [
       "<div>\n",
       "<style scoped>\n",
       "    .dataframe tbody tr th:only-of-type {\n",
       "        vertical-align: middle;\n",
       "    }\n",
       "\n",
       "    .dataframe tbody tr th {\n",
       "        vertical-align: top;\n",
       "    }\n",
       "\n",
       "    .dataframe thead th {\n",
       "        text-align: right;\n",
       "    }\n",
       "</style>\n",
       "<table border=\"1\" class=\"dataframe\">\n",
       "  <thead>\n",
       "    <tr style=\"text-align: right;\">\n",
       "      <th></th>\n",
       "      <th>Unnamed: 0</th>\n",
       "      <th>Likes</th>\n",
       "      <th>Comments</th>\n",
       "      <th>Views</th>\n",
       "    </tr>\n",
       "  </thead>\n",
       "  <tbody>\n",
       "    <tr>\n",
       "      <th>count</th>\n",
       "      <td>1881.000000</td>\n",
       "      <td>1.879000e+03</td>\n",
       "      <td>1879.000000</td>\n",
       "      <td>1.879000e+03</td>\n",
       "    </tr>\n",
       "    <tr>\n",
       "      <th>mean</th>\n",
       "      <td>940.000000</td>\n",
       "      <td>1.700610e+05</td>\n",
       "      <td>7863.331559</td>\n",
       "      <td>1.161292e+07</td>\n",
       "    </tr>\n",
       "    <tr>\n",
       "      <th>std</th>\n",
       "      <td>543.142247</td>\n",
       "      <td>7.962293e+05</td>\n",
       "      <td>37879.964926</td>\n",
       "      <td>1.084450e+08</td>\n",
       "    </tr>\n",
       "    <tr>\n",
       "      <th>min</th>\n",
       "      <td>0.000000</td>\n",
       "      <td>-1.000000e+00</td>\n",
       "      <td>-1.000000</td>\n",
       "      <td>2.500000e+01</td>\n",
       "    </tr>\n",
       "    <tr>\n",
       "      <th>25%</th>\n",
       "      <td>470.000000</td>\n",
       "      <td>2.672500e+03</td>\n",
       "      <td>199.000000</td>\n",
       "      <td>8.451500e+04</td>\n",
       "    </tr>\n",
       "    <tr>\n",
       "      <th>50%</th>\n",
       "      <td>940.000000</td>\n",
       "      <td>1.478700e+04</td>\n",
       "      <td>814.000000</td>\n",
       "      <td>5.917210e+05</td>\n",
       "    </tr>\n",
       "    <tr>\n",
       "      <th>75%</th>\n",
       "      <td>1410.000000</td>\n",
       "      <td>6.090600e+04</td>\n",
       "      <td>3377.500000</td>\n",
       "      <td>2.804978e+06</td>\n",
       "    </tr>\n",
       "    <tr>\n",
       "      <th>max</th>\n",
       "      <td>1880.000000</td>\n",
       "      <td>1.644556e+07</td>\n",
       "      <td>732818.000000</td>\n",
       "      <td>4.034122e+09</td>\n",
       "    </tr>\n",
       "  </tbody>\n",
       "</table>\n",
       "</div>"
      ],
      "text/plain": [
       "        Unnamed: 0         Likes       Comments         Views\n",
       "count  1881.000000  1.879000e+03    1879.000000  1.879000e+03\n",
       "mean    940.000000  1.700610e+05    7863.331559  1.161292e+07\n",
       "std     543.142247  7.962293e+05   37879.964926  1.084450e+08\n",
       "min       0.000000 -1.000000e+00      -1.000000  2.500000e+01\n",
       "25%     470.000000  2.672500e+03     199.000000  8.451500e+04\n",
       "50%     940.000000  1.478700e+04     814.000000  5.917210e+05\n",
       "75%    1410.000000  6.090600e+04    3377.500000  2.804978e+06\n",
       "max    1880.000000  1.644556e+07  732818.000000  4.034122e+09"
      ]
     },
     "execution_count": 6,
     "metadata": {},
     "output_type": "execute_result"
    }
   ],
   "source": [
    "videos.describe()"
   ]
  },
  {
   "cell_type": "code",
   "execution_count": 7,
   "id": "ea198ea3",
   "metadata": {},
   "outputs": [
    {
     "data": {
      "text/html": [
       "<div>\n",
       "<style scoped>\n",
       "    .dataframe tbody tr th:only-of-type {\n",
       "        vertical-align: middle;\n",
       "    }\n",
       "\n",
       "    .dataframe tbody tr th {\n",
       "        vertical-align: top;\n",
       "    }\n",
       "\n",
       "    .dataframe thead th {\n",
       "        text-align: right;\n",
       "    }\n",
       "</style>\n",
       "<table border=\"1\" class=\"dataframe\">\n",
       "  <thead>\n",
       "    <tr style=\"text-align: right;\">\n",
       "      <th></th>\n",
       "      <th>Unnamed: 0</th>\n",
       "      <th>Likes</th>\n",
       "      <th>Sentiment</th>\n",
       "    </tr>\n",
       "  </thead>\n",
       "  <tbody>\n",
       "    <tr>\n",
       "      <th>count</th>\n",
       "      <td>18409.000000</td>\n",
       "      <td>18409.000000</td>\n",
       "      <td>18409.000000</td>\n",
       "    </tr>\n",
       "    <tr>\n",
       "      <th>mean</th>\n",
       "      <td>9204.000000</td>\n",
       "      <td>1040.019447</td>\n",
       "      <td>1.493998</td>\n",
       "    </tr>\n",
       "    <tr>\n",
       "      <th>std</th>\n",
       "      <td>5314.364888</td>\n",
       "      <td>10651.366148</td>\n",
       "      <td>0.709928</td>\n",
       "    </tr>\n",
       "    <tr>\n",
       "      <th>min</th>\n",
       "      <td>0.000000</td>\n",
       "      <td>0.000000</td>\n",
       "      <td>0.000000</td>\n",
       "    </tr>\n",
       "    <tr>\n",
       "      <th>25%</th>\n",
       "      <td>4602.000000</td>\n",
       "      <td>5.000000</td>\n",
       "      <td>1.000000</td>\n",
       "    </tr>\n",
       "    <tr>\n",
       "      <th>50%</th>\n",
       "      <td>9204.000000</td>\n",
       "      <td>29.000000</td>\n",
       "      <td>2.000000</td>\n",
       "    </tr>\n",
       "    <tr>\n",
       "      <th>75%</th>\n",
       "      <td>13806.000000</td>\n",
       "      <td>190.000000</td>\n",
       "      <td>2.000000</td>\n",
       "    </tr>\n",
       "    <tr>\n",
       "      <th>max</th>\n",
       "      <td>18408.000000</td>\n",
       "      <td>891372.000000</td>\n",
       "      <td>2.000000</td>\n",
       "    </tr>\n",
       "  </tbody>\n",
       "</table>\n",
       "</div>"
      ],
      "text/plain": [
       "         Unnamed: 0          Likes     Sentiment\n",
       "count  18409.000000   18409.000000  18409.000000\n",
       "mean    9204.000000    1040.019447      1.493998\n",
       "std     5314.364888   10651.366148      0.709928\n",
       "min        0.000000       0.000000      0.000000\n",
       "25%     4602.000000       5.000000      1.000000\n",
       "50%     9204.000000      29.000000      2.000000\n",
       "75%    13806.000000     190.000000      2.000000\n",
       "max    18408.000000  891372.000000      2.000000"
      ]
     },
     "execution_count": 7,
     "metadata": {},
     "output_type": "execute_result"
    }
   ],
   "source": [
    "comments.describe()"
   ]
  },
  {
   "cell_type": "code",
   "execution_count": 8,
   "id": "5dd74d19",
   "metadata": {},
   "outputs": [],
   "source": [
    "videos.drop(columns=\"Unnamed: 0\", axis=1, inplace=True)\n",
    "comments.drop(columns=\"Unnamed: 0\", axis=1, inplace=True)"
   ]
  },
  {
   "cell_type": "code",
   "execution_count": 9,
   "id": "c3664b1b",
   "metadata": {},
   "outputs": [],
   "source": [
    "videos.columns = videos.columns.str.lower().str.replace(\" \", \"_\")\n",
    "comments.columns = comments.columns.str.lower().str.replace(\" \", \"_\")"
   ]
  },
  {
   "cell_type": "code",
   "execution_count": 10,
   "id": "2c59ba36",
   "metadata": {},
   "outputs": [
    {
     "name": "stdout",
     "output_type": "stream",
     "text": [
      "<class 'pandas.core.frame.DataFrame'>\n",
      "RangeIndex: 1881 entries, 0 to 1880\n",
      "Data columns (total 7 columns):\n",
      " #   Column        Non-Null Count  Dtype  \n",
      "---  ------        --------------  -----  \n",
      " 0   title         1881 non-null   object \n",
      " 1   video_id      1881 non-null   object \n",
      " 2   published_at  1881 non-null   object \n",
      " 3   keyword       1881 non-null   object \n",
      " 4   likes         1879 non-null   float64\n",
      " 5   comments      1879 non-null   float64\n",
      " 6   views         1879 non-null   float64\n",
      "dtypes: float64(3), object(4)\n",
      "memory usage: 103.0+ KB\n"
     ]
    }
   ],
   "source": [
    "videos.info()"
   ]
  },
  {
   "cell_type": "code",
   "execution_count": 11,
   "id": "ab62912e",
   "metadata": {},
   "outputs": [
    {
     "name": "stdout",
     "output_type": "stream",
     "text": [
      "<class 'pandas.core.frame.DataFrame'>\n",
      "RangeIndex: 18409 entries, 0 to 18408\n",
      "Data columns (total 4 columns):\n",
      " #   Column     Non-Null Count  Dtype  \n",
      "---  ------     --------------  -----  \n",
      " 0   video_id   18409 non-null  object \n",
      " 1   comment    18408 non-null  object \n",
      " 2   likes      18409 non-null  float64\n",
      " 3   sentiment  18409 non-null  float64\n",
      "dtypes: float64(2), object(2)\n",
      "memory usage: 575.4+ KB\n"
     ]
    }
   ],
   "source": [
    "comments.info()"
   ]
  },
  {
   "cell_type": "markdown",
   "id": "31032b08",
   "metadata": {},
   "source": [
    "# Dealing with Null Values\n",
    "As shown above, the videos DataFrame has two rows with missing values and the comments DataFrame has one. Since there are minimal null values in the DataFrame, we decided to drop these rows."
   ]
  },
  {
   "cell_type": "code",
   "execution_count": 12,
   "id": "f9363376",
   "metadata": {},
   "outputs": [],
   "source": [
    "videos = videos.dropna()\n",
    "comments = comments.dropna()"
   ]
  },
  {
   "cell_type": "code",
   "execution_count": 13,
   "id": "0c871474",
   "metadata": {},
   "outputs": [
    {
     "data": {
      "text/plain": [
       "title           0\n",
       "video_id        0\n",
       "published_at    0\n",
       "keyword         0\n",
       "likes           0\n",
       "comments        0\n",
       "views           0\n",
       "dtype: int64"
      ]
     },
     "execution_count": 13,
     "metadata": {},
     "output_type": "execute_result"
    }
   ],
   "source": [
    "videos.isnull().sum()"
   ]
  },
  {
   "cell_type": "code",
   "execution_count": 14,
   "id": "043983a5",
   "metadata": {},
   "outputs": [
    {
     "data": {
      "text/plain": [
       "video_id     0\n",
       "comment      0\n",
       "likes        0\n",
       "sentiment    0\n",
       "dtype: int64"
      ]
     },
     "execution_count": 14,
     "metadata": {},
     "output_type": "execute_result"
    }
   ],
   "source": [
    "comments.isnull().sum()"
   ]
  },
  {
   "cell_type": "markdown",
   "id": "36532736",
   "metadata": {},
   "source": [
    "# Dealing with Duplicate Values\n",
    "While exploring the videos DataFrame we discovered that there were 12 records that had repeated values in the video_id column. For every duplicated record every value was the same besides the keyword column. Since only 12 out of 1881 values were duplicates, we decided to drop the duplicate records that showed up second."
   ]
  },
  {
   "cell_type": "code",
   "execution_count": 15,
   "id": "81de7474",
   "metadata": {},
   "outputs": [
    {
     "data": {
      "text/html": [
       "<div>\n",
       "<style scoped>\n",
       "    .dataframe tbody tr th:only-of-type {\n",
       "        vertical-align: middle;\n",
       "    }\n",
       "\n",
       "    .dataframe tbody tr th {\n",
       "        vertical-align: top;\n",
       "    }\n",
       "\n",
       "    .dataframe thead th {\n",
       "        text-align: right;\n",
       "    }\n",
       "</style>\n",
       "<table border=\"1\" class=\"dataframe\">\n",
       "  <thead>\n",
       "    <tr style=\"text-align: right;\">\n",
       "      <th></th>\n",
       "      <th>title</th>\n",
       "      <th>video_id</th>\n",
       "      <th>published_at</th>\n",
       "      <th>keyword</th>\n",
       "      <th>likes</th>\n",
       "      <th>comments</th>\n",
       "      <th>views</th>\n",
       "    </tr>\n",
       "  </thead>\n",
       "  <tbody>\n",
       "    <tr>\n",
       "      <th>1714</th>\n",
       "      <td>Vikram Vedha Movie Teaser Review | KRK | #krkr...</td>\n",
       "      <td>2FYvHn12pOQ</td>\n",
       "      <td>2022-08-24</td>\n",
       "      <td>movies</td>\n",
       "      <td>-1.0</td>\n",
       "      <td>105.0</td>\n",
       "      <td>1541874.0</td>\n",
       "    </tr>\n",
       "    <tr>\n",
       "      <th>1055</th>\n",
       "      <td>Vikram Vedha Movie Teaser Review | KRK | #krkr...</td>\n",
       "      <td>2FYvHn12pOQ</td>\n",
       "      <td>2022-08-24</td>\n",
       "      <td>reaction</td>\n",
       "      <td>29728.0</td>\n",
       "      <td>8832.0</td>\n",
       "      <td>405791.0</td>\n",
       "    </tr>\n",
       "    <tr>\n",
       "      <th>2</th>\n",
       "      <td>My New House Gaming Setup is SICK!</td>\n",
       "      <td>4mgePWWCAmA</td>\n",
       "      <td>2022-08-23</td>\n",
       "      <td>tech</td>\n",
       "      <td>63825.0</td>\n",
       "      <td>3338.0</td>\n",
       "      <td>1564007.0</td>\n",
       "    </tr>\n",
       "    <tr>\n",
       "      <th>88</th>\n",
       "      <td>My New House Gaming Setup is SICK!</td>\n",
       "      <td>4mgePWWCAmA</td>\n",
       "      <td>2022-08-23</td>\n",
       "      <td>gaming</td>\n",
       "      <td>63825.0</td>\n",
       "      <td>3338.0</td>\n",
       "      <td>1564007.0</td>\n",
       "    </tr>\n",
       "    <tr>\n",
       "      <th>1501</th>\n",
       "      <td>Computer Scientist Explains Machine Learning i...</td>\n",
       "      <td>5q87K1WaoFI</td>\n",
       "      <td>2021-08-18</td>\n",
       "      <td>computer science</td>\n",
       "      <td>42940.0</td>\n",
       "      <td>1735.0</td>\n",
       "      <td>1407319.0</td>\n",
       "    </tr>\n",
       "    <tr>\n",
       "      <th>1832</th>\n",
       "      <td>Computer Scientist Explains Machine Learning i...</td>\n",
       "      <td>5q87K1WaoFI</td>\n",
       "      <td>2021-08-18</td>\n",
       "      <td>machine learning</td>\n",
       "      <td>15137.0</td>\n",
       "      <td>181.0</td>\n",
       "      <td>906372.0</td>\n",
       "    </tr>\n",
       "    <tr>\n",
       "      <th>1762</th>\n",
       "      <td>Python Machine Learning Tutorial (Data Science)</td>\n",
       "      <td>7eh4d6sabA0</td>\n",
       "      <td>2020-09-17</td>\n",
       "      <td>data science</td>\n",
       "      <td>7555.0</td>\n",
       "      <td>442.0</td>\n",
       "      <td>295344.0</td>\n",
       "    </tr>\n",
       "    <tr>\n",
       "      <th>1835</th>\n",
       "      <td>Python Machine Learning Tutorial (Data Science)</td>\n",
       "      <td>7eh4d6sabA0</td>\n",
       "      <td>2020-09-17</td>\n",
       "      <td>machine learning</td>\n",
       "      <td>1237.0</td>\n",
       "      <td>16.0</td>\n",
       "      <td>32605.0</td>\n",
       "    </tr>\n",
       "    <tr>\n",
       "      <th>1554</th>\n",
       "      <td>🚨 DÉPÊCHEZ-VOUS 🚨 Ces PROMOS disparaissent bie...</td>\n",
       "      <td>96mrgd8-3yE</td>\n",
       "      <td>2022-08-24</td>\n",
       "      <td>nintendo</td>\n",
       "      <td>406.0</td>\n",
       "      <td>57.0</td>\n",
       "      <td>13184.0</td>\n",
       "    </tr>\n",
       "    <tr>\n",
       "      <th>1595</th>\n",
       "      <td>🚨 DÉPÊCHEZ-VOUS 🚨 Ces PROMOS disparaissent bie...</td>\n",
       "      <td>96mrgd8-3yE</td>\n",
       "      <td>2022-08-24</td>\n",
       "      <td>xbox</td>\n",
       "      <td>406.0</td>\n",
       "      <td>57.0</td>\n",
       "      <td>13184.0</td>\n",
       "    </tr>\n",
       "    <tr>\n",
       "      <th>319</th>\n",
       "      <td>20 Minecraft Block Facts You Maybe Didn&amp;#39;t ...</td>\n",
       "      <td>LeC5yJq4tsI</td>\n",
       "      <td>2022-08-21</td>\n",
       "      <td>tutorial</td>\n",
       "      <td>57526.0</td>\n",
       "      <td>1115.0</td>\n",
       "      <td>1204024.0</td>\n",
       "    </tr>\n",
       "    <tr>\n",
       "      <th>1220</th>\n",
       "      <td>20 Minecraft Block Facts You Maybe Didn&amp;#39;t ...</td>\n",
       "      <td>LeC5yJq4tsI</td>\n",
       "      <td>2022-08-21</td>\n",
       "      <td>minecraft</td>\n",
       "      <td>57527.0</td>\n",
       "      <td>1115.0</td>\n",
       "      <td>1204024.0</td>\n",
       "    </tr>\n",
       "    <tr>\n",
       "      <th>423</th>\n",
       "      <td>How to Solve a Rubik&amp;#39;s Cube | WIRED</td>\n",
       "      <td>R-R0KrXvWbc</td>\n",
       "      <td>2019-09-05</td>\n",
       "      <td>cubes</td>\n",
       "      <td>339759.0</td>\n",
       "      <td>32717.0</td>\n",
       "      <td>29905105.0</td>\n",
       "    </tr>\n",
       "    <tr>\n",
       "      <th>225</th>\n",
       "      <td>How to Solve a Rubik&amp;#39;s Cube | WIRED</td>\n",
       "      <td>R-R0KrXvWbc</td>\n",
       "      <td>2019-09-05</td>\n",
       "      <td>how-to</td>\n",
       "      <td>339758.0</td>\n",
       "      <td>32718.0</td>\n",
       "      <td>29905105.0</td>\n",
       "    </tr>\n",
       "    <tr>\n",
       "      <th>1041</th>\n",
       "      <td>BLACKPINK - ‘Pink Venom’ DANCE PRACTICE VIDEO</td>\n",
       "      <td>RFMi3v0TXP8</td>\n",
       "      <td>2022-08-24</td>\n",
       "      <td>reaction</td>\n",
       "      <td>3001265.0</td>\n",
       "      <td>110162.0</td>\n",
       "      <td>23836066.0</td>\n",
       "    </tr>\n",
       "    <tr>\n",
       "      <th>916</th>\n",
       "      <td>BLACKPINK - ‘Pink Venom’ DANCE PRACTICE VIDEO</td>\n",
       "      <td>RFMi3v0TXP8</td>\n",
       "      <td>2022-08-24</td>\n",
       "      <td>music</td>\n",
       "      <td>3001232.0</td>\n",
       "      <td>110160.0</td>\n",
       "      <td>23836066.0</td>\n",
       "    </tr>\n",
       "    <tr>\n",
       "      <th>1229</th>\n",
       "      <td>I OPENED MY OWN ARCADE SHOP</td>\n",
       "      <td>WBK2_lD7KGA</td>\n",
       "      <td>2022-08-24</td>\n",
       "      <td>minecraft</td>\n",
       "      <td>298445.0</td>\n",
       "      <td>15610.0</td>\n",
       "      <td>3773387.0</td>\n",
       "    </tr>\n",
       "    <tr>\n",
       "      <th>91</th>\n",
       "      <td>I OPENED MY OWN ARCADE SHOP</td>\n",
       "      <td>WBK2_lD7KGA</td>\n",
       "      <td>2022-08-24</td>\n",
       "      <td>gaming</td>\n",
       "      <td>298406.0</td>\n",
       "      <td>15609.0</td>\n",
       "      <td>3773387.0</td>\n",
       "    </tr>\n",
       "    <tr>\n",
       "      <th>891</th>\n",
       "      <td>Lofi For Reading 📚 Lofi Hip Hop | Study Music ...</td>\n",
       "      <td>ZgeorpjGJC0</td>\n",
       "      <td>2022-08-24</td>\n",
       "      <td>music</td>\n",
       "      <td>329.0</td>\n",
       "      <td>29.0</td>\n",
       "      <td>14336.0</td>\n",
       "    </tr>\n",
       "    <tr>\n",
       "      <th>1077</th>\n",
       "      <td>Lofi For Reading 📚 Lofi Hip Hop | Study Music ...</td>\n",
       "      <td>ZgeorpjGJC0</td>\n",
       "      <td>2022-08-24</td>\n",
       "      <td>lofi</td>\n",
       "      <td>329.0</td>\n",
       "      <td>29.0</td>\n",
       "      <td>14341.0</td>\n",
       "    </tr>\n",
       "    <tr>\n",
       "      <th>682</th>\n",
       "      <td>The History Of Chess: A Reflection Of Us</td>\n",
       "      <td>kkOweffr3II</td>\n",
       "      <td>2022-08-21</td>\n",
       "      <td>history</td>\n",
       "      <td>2546.0</td>\n",
       "      <td>173.0</td>\n",
       "      <td>51885.0</td>\n",
       "    </tr>\n",
       "    <tr>\n",
       "      <th>472</th>\n",
       "      <td>The History Of Chess: A Reflection Of Us</td>\n",
       "      <td>kkOweffr3II</td>\n",
       "      <td>2022-08-21</td>\n",
       "      <td>chess</td>\n",
       "      <td>2546.0</td>\n",
       "      <td>173.0</td>\n",
       "      <td>51885.0</td>\n",
       "    </tr>\n",
       "    <tr>\n",
       "      <th>848</th>\n",
       "      <td>ASMR Gaming 😴 Fortnite 1 Kill = 1 Trigger Rela...</td>\n",
       "      <td>mqc6QqoGNWI</td>\n",
       "      <td>2022-08-24</td>\n",
       "      <td>asmr</td>\n",
       "      <td>563.0</td>\n",
       "      <td>86.0</td>\n",
       "      <td>14537.0</td>\n",
       "    </tr>\n",
       "    <tr>\n",
       "      <th>129</th>\n",
       "      <td>ASMR Gaming 😴 Fortnite 1 Kill = 1 Trigger Rela...</td>\n",
       "      <td>mqc6QqoGNWI</td>\n",
       "      <td>2022-08-24</td>\n",
       "      <td>gaming</td>\n",
       "      <td>563.0</td>\n",
       "      <td>85.0</td>\n",
       "      <td>14537.0</td>\n",
       "    </tr>\n",
       "  </tbody>\n",
       "</table>\n",
       "</div>"
      ],
      "text/plain": [
       "                                                  title     video_id  \\\n",
       "1714  Vikram Vedha Movie Teaser Review | KRK | #krkr...  2FYvHn12pOQ   \n",
       "1055  Vikram Vedha Movie Teaser Review | KRK | #krkr...  2FYvHn12pOQ   \n",
       "2                    My New House Gaming Setup is SICK!  4mgePWWCAmA   \n",
       "88                   My New House Gaming Setup is SICK!  4mgePWWCAmA   \n",
       "1501  Computer Scientist Explains Machine Learning i...  5q87K1WaoFI   \n",
       "1832  Computer Scientist Explains Machine Learning i...  5q87K1WaoFI   \n",
       "1762    Python Machine Learning Tutorial (Data Science)  7eh4d6sabA0   \n",
       "1835    Python Machine Learning Tutorial (Data Science)  7eh4d6sabA0   \n",
       "1554  🚨 DÉPÊCHEZ-VOUS 🚨 Ces PROMOS disparaissent bie...  96mrgd8-3yE   \n",
       "1595  🚨 DÉPÊCHEZ-VOUS 🚨 Ces PROMOS disparaissent bie...  96mrgd8-3yE   \n",
       "319   20 Minecraft Block Facts You Maybe Didn&#39;t ...  LeC5yJq4tsI   \n",
       "1220  20 Minecraft Block Facts You Maybe Didn&#39;t ...  LeC5yJq4tsI   \n",
       "423             How to Solve a Rubik&#39;s Cube | WIRED  R-R0KrXvWbc   \n",
       "225             How to Solve a Rubik&#39;s Cube | WIRED  R-R0KrXvWbc   \n",
       "1041      BLACKPINK - ‘Pink Venom’ DANCE PRACTICE VIDEO  RFMi3v0TXP8   \n",
       "916       BLACKPINK - ‘Pink Venom’ DANCE PRACTICE VIDEO  RFMi3v0TXP8   \n",
       "1229                        I OPENED MY OWN ARCADE SHOP  WBK2_lD7KGA   \n",
       "91                          I OPENED MY OWN ARCADE SHOP  WBK2_lD7KGA   \n",
       "891   Lofi For Reading 📚 Lofi Hip Hop | Study Music ...  ZgeorpjGJC0   \n",
       "1077  Lofi For Reading 📚 Lofi Hip Hop | Study Music ...  ZgeorpjGJC0   \n",
       "682            The History Of Chess: A Reflection Of Us  kkOweffr3II   \n",
       "472            The History Of Chess: A Reflection Of Us  kkOweffr3II   \n",
       "848   ASMR Gaming 😴 Fortnite 1 Kill = 1 Trigger Rela...  mqc6QqoGNWI   \n",
       "129   ASMR Gaming 😴 Fortnite 1 Kill = 1 Trigger Rela...  mqc6QqoGNWI   \n",
       "\n",
       "     published_at           keyword      likes  comments       views  \n",
       "1714   2022-08-24            movies       -1.0     105.0   1541874.0  \n",
       "1055   2022-08-24          reaction    29728.0    8832.0    405791.0  \n",
       "2      2022-08-23              tech    63825.0    3338.0   1564007.0  \n",
       "88     2022-08-23            gaming    63825.0    3338.0   1564007.0  \n",
       "1501   2021-08-18  computer science    42940.0    1735.0   1407319.0  \n",
       "1832   2021-08-18  machine learning    15137.0     181.0    906372.0  \n",
       "1762   2020-09-17      data science     7555.0     442.0    295344.0  \n",
       "1835   2020-09-17  machine learning     1237.0      16.0     32605.0  \n",
       "1554   2022-08-24          nintendo      406.0      57.0     13184.0  \n",
       "1595   2022-08-24              xbox      406.0      57.0     13184.0  \n",
       "319    2022-08-21          tutorial    57526.0    1115.0   1204024.0  \n",
       "1220   2022-08-21         minecraft    57527.0    1115.0   1204024.0  \n",
       "423    2019-09-05             cubes   339759.0   32717.0  29905105.0  \n",
       "225    2019-09-05            how-to   339758.0   32718.0  29905105.0  \n",
       "1041   2022-08-24          reaction  3001265.0  110162.0  23836066.0  \n",
       "916    2022-08-24             music  3001232.0  110160.0  23836066.0  \n",
       "1229   2022-08-24         minecraft   298445.0   15610.0   3773387.0  \n",
       "91     2022-08-24            gaming   298406.0   15609.0   3773387.0  \n",
       "891    2022-08-24             music      329.0      29.0     14336.0  \n",
       "1077   2022-08-24              lofi      329.0      29.0     14341.0  \n",
       "682    2022-08-21           history     2546.0     173.0     51885.0  \n",
       "472    2022-08-21             chess     2546.0     173.0     51885.0  \n",
       "848    2022-08-24              asmr      563.0      86.0     14537.0  \n",
       "129    2022-08-24            gaming      563.0      85.0     14537.0  "
      ]
     },
     "execution_count": 15,
     "metadata": {},
     "output_type": "execute_result"
    }
   ],
   "source": [
    "videos.loc[videos.video_id.duplicated(keep=False), :].sort_values(\"video_id\")"
   ]
  },
  {
   "cell_type": "code",
   "execution_count": 16,
   "id": "975e9597",
   "metadata": {},
   "outputs": [],
   "source": [
    "videos = videos.drop_duplicates(subset=['video_id'])"
   ]
  },
  {
   "cell_type": "code",
   "execution_count": 17,
   "id": "d090ae93",
   "metadata": {},
   "outputs": [
    {
     "data": {
      "text/plain": [
       "0"
      ]
     },
     "execution_count": 17,
     "metadata": {},
     "output_type": "execute_result"
    }
   ],
   "source": [
    "videos.video_id.duplicated().sum()"
   ]
  },
  {
   "cell_type": "markdown",
   "id": "866963f3",
   "metadata": {},
   "source": [
    "We also discovered that the dataset had -1 values for records that disabled likes or comments on the video. In order to keep our data consistent, we dropped these records from our DataFrame."
   ]
  },
  {
   "cell_type": "code",
   "execution_count": 18,
   "id": "fea2774f",
   "metadata": {},
   "outputs": [
    {
     "name": "stdout",
     "output_type": "stream",
     "text": [
      "(6, 7)\n",
      "(2, 7)\n"
     ]
    }
   ],
   "source": [
    "print(videos[videos.likes == -1].shape)\n",
    "print(videos[videos.comments == -1].shape)"
   ]
  },
  {
   "cell_type": "code",
   "execution_count": 19,
   "id": "8317586b",
   "metadata": {},
   "outputs": [],
   "source": [
    "videos = videos[videos.likes != -1]\n",
    "videos = videos[videos.comments != -1]"
   ]
  },
  {
   "cell_type": "markdown",
   "id": "7e73be8b",
   "metadata": {},
   "source": [
    "# Feature Engineering\n",
    "### Feature Engineering Summary:\n",
    "After cleaning and analyzing our dataset we decided to add some\n",
    "variables that might be useful in our ML model. We added these variables\n",
    "because we thought they might have an impact on the like conversion rate\n",
    "of videos.\n",
    "\n",
    "-   **avg_comm_len:** Average comment length for each video\n",
    "-   **title_len:** Title length\n",
    "-   **avg_comm_sent:** Average comment sentiment score for each video\n",
    "-   **sent_title:** Title sentiment score\n",
    "-   **month:** Month in numerical form (1 being January, 2 being\n",
    "    February, etc.)\n",
    "-   **like_conversion_rate:** Percent of likes per view\n",
    "-   **like_conversion_cat:** Like conversion rate assigned a certain\n",
    "    category based on value (Bad, Neutral, or Good)"
   ]
  },
  {
   "cell_type": "markdown",
   "id": "ed7173cb",
   "metadata": {},
   "source": [
    "Average Comment Length:"
   ]
  },
  {
   "cell_type": "code",
   "execution_count": 20,
   "id": "a099c50f",
   "metadata": {},
   "outputs": [],
   "source": [
    "comments[\"comment_len\"] = comments.comment.str.split().apply(lambda x: len(x))\n",
    "avg_com_len = comments.groupby(\"video_id\")[\"comment_len\"].mean()\n",
    "videos = pd.merge(videos, avg_com_len, how=\"inner\", on=[\"video_id\"]).rename(columns={'comment_len':'avg_comm_len'})"
   ]
  },
  {
   "cell_type": "markdown",
   "id": "5105e0d2",
   "metadata": {},
   "source": [
    "Title Length:"
   ]
  },
  {
   "cell_type": "code",
   "execution_count": 21,
   "id": "b93bbad8",
   "metadata": {},
   "outputs": [],
   "source": [
    "videos['title_len'] = videos['title'].str.split().apply(lambda x: len(x))"
   ]
  },
  {
   "cell_type": "markdown",
   "id": "e334ecde",
   "metadata": {},
   "source": [
    "Remove Stopwords and Get Sentiment Score Functions:"
   ]
  },
  {
   "cell_type": "code",
   "execution_count": 22,
   "id": "f050af58",
   "metadata": {},
   "outputs": [],
   "source": [
    "def remove_stopwords(title):\n",
    "    title = title.lower()\n",
    "    temp_title = title.split(' ')\n",
    "    temp_title = [i for i in temp_title if i not in stopwords.words('english')]\n",
    "    return ' '.join(temp_title)"
   ]
  },
  {
   "cell_type": "code",
   "execution_count": 23,
   "id": "108ad280",
   "metadata": {},
   "outputs": [],
   "source": [
    "sid = SentimentIntensityAnalyzer()"
   ]
  },
  {
   "cell_type": "code",
   "execution_count": 24,
   "id": "21255d90",
   "metadata": {},
   "outputs": [],
   "source": [
    "def get_sent(sentence):\n",
    "    sentiment_ = sid.polarity_scores(sentence)\n",
    "    return sentiment_['compound']"
   ]
  },
  {
   "cell_type": "markdown",
   "id": "1d814556",
   "metadata": {},
   "source": [
    "Comment Sentiment Score:"
   ]
  },
  {
   "cell_type": "code",
   "execution_count": 25,
   "id": "46171f71",
   "metadata": {},
   "outputs": [],
   "source": [
    "comments['comment'] = comments['comment'].apply(remove_stopwords)"
   ]
  },
  {
   "cell_type": "code",
   "execution_count": 26,
   "id": "81b5e0a1",
   "metadata": {},
   "outputs": [],
   "source": [
    "comments['comm_sent'] = comments['comment'].apply(get_sent)"
   ]
  },
  {
   "cell_type": "code",
   "execution_count": 27,
   "id": "78297c63",
   "metadata": {},
   "outputs": [],
   "source": [
    "avg_sent = comments.groupby('video_id')['comm_sent'].mean()\n",
    "videos = pd.merge(videos, avg_sent, how=\"inner\", on=[\"video_id\"]).rename(columns={'comm_sent':'avg_comm_sent'})"
   ]
  },
  {
   "cell_type": "markdown",
   "id": "4bcb2ff6",
   "metadata": {},
   "source": [
    "Title Sentiment Score:"
   ]
  },
  {
   "cell_type": "code",
   "execution_count": 28,
   "id": "f6401f84",
   "metadata": {},
   "outputs": [],
   "source": [
    "videos['title'] = videos['title'].apply(remove_stopwords)\n",
    "videos['sent_title'] = videos['title'].apply(get_sent)"
   ]
  },
  {
   "cell_type": "markdown",
   "id": "91a9aa5f",
   "metadata": {},
   "source": [
    "Month:"
   ]
  },
  {
   "cell_type": "code",
   "execution_count": 29,
   "id": "c41b5b56",
   "metadata": {},
   "outputs": [],
   "source": [
    "videos['published_at'] = videos['published_at'].apply(pd.to_datetime)\n",
    "videos['month'] = videos['published_at'].apply(lambda x: x.month)"
   ]
  },
  {
   "cell_type": "markdown",
   "id": "7e108e50",
   "metadata": {},
   "source": [
    "Like Conversion Rate:"
   ]
  },
  {
   "cell_type": "code",
   "execution_count": 30,
   "id": "03460750",
   "metadata": {},
   "outputs": [],
   "source": [
    "videos['like_conversion_rate'] = videos.apply(lambda x: (x['likes'] / x['views'])*100, axis=1 )"
   ]
  },
  {
   "cell_type": "markdown",
   "id": "09c6c18b",
   "metadata": {},
   "source": [
    "Like Conversion Rate Categorical Value:"
   ]
  },
  {
   "cell_type": "code",
   "execution_count": 31,
   "id": "99de3f88",
   "metadata": {},
   "outputs": [
    {
     "data": {
      "text/plain": [
       "like_conversion_rate\n",
       "(-0.001, 1.908]    620\n",
       "(1.908, 3.76]      619\n",
       "(3.76, 21.858]     620\n",
       "Name: count, dtype: int64"
      ]
     },
     "execution_count": 31,
     "metadata": {},
     "output_type": "execute_result"
    }
   ],
   "source": [
    "pd.qcut(videos.like_conversion_rate, 3).value_counts().sort_index()"
   ]
  },
  {
   "cell_type": "code",
   "execution_count": 32,
   "id": "789379d2",
   "metadata": {},
   "outputs": [],
   "source": [
    "like_cat = pd.qcut(videos.like_conversion_rate, 3, labels=[\"Bad\", \"Neutral\", \"Good\"])\n",
    "videos[\"like_conversion_cat\"] = like_cat"
   ]
  },
  {
   "cell_type": "code",
   "execution_count": 33,
   "id": "cabcec3f",
   "metadata": {},
   "outputs": [
    {
     "data": {
      "text/html": [
       "<div>\n",
       "<style scoped>\n",
       "    .dataframe tbody tr th:only-of-type {\n",
       "        vertical-align: middle;\n",
       "    }\n",
       "\n",
       "    .dataframe tbody tr th {\n",
       "        vertical-align: top;\n",
       "    }\n",
       "\n",
       "    .dataframe thead th {\n",
       "        text-align: right;\n",
       "    }\n",
       "</style>\n",
       "<table border=\"1\" class=\"dataframe\">\n",
       "  <thead>\n",
       "    <tr style=\"text-align: right;\">\n",
       "      <th></th>\n",
       "      <th>title</th>\n",
       "      <th>video_id</th>\n",
       "      <th>published_at</th>\n",
       "      <th>keyword</th>\n",
       "      <th>likes</th>\n",
       "      <th>comments</th>\n",
       "      <th>views</th>\n",
       "      <th>avg_comm_len</th>\n",
       "      <th>title_len</th>\n",
       "      <th>avg_comm_sent</th>\n",
       "      <th>sent_title</th>\n",
       "      <th>month</th>\n",
       "      <th>like_conversion_rate</th>\n",
       "      <th>like_conversion_cat</th>\n",
       "    </tr>\n",
       "  </thead>\n",
       "  <tbody>\n",
       "    <tr>\n",
       "      <th>0</th>\n",
       "      <td>apple pay killing physical wallet eight years ...</td>\n",
       "      <td>wAZZ-UWGVHI</td>\n",
       "      <td>2022-08-23</td>\n",
       "      <td>tech</td>\n",
       "      <td>3407.0</td>\n",
       "      <td>672.0</td>\n",
       "      <td>135612.0</td>\n",
       "      <td>36.6</td>\n",
       "      <td>18</td>\n",
       "      <td>0.39121</td>\n",
       "      <td>-0.7003</td>\n",
       "      <td>8</td>\n",
       "      <td>2.512315</td>\n",
       "      <td>Neutral</td>\n",
       "    </tr>\n",
       "    <tr>\n",
       "      <th>1</th>\n",
       "      <td>expensive thing own.</td>\n",
       "      <td>b3x28s61q3c</td>\n",
       "      <td>2022-08-24</td>\n",
       "      <td>tech</td>\n",
       "      <td>76779.0</td>\n",
       "      <td>4306.0</td>\n",
       "      <td>1758063.0</td>\n",
       "      <td>44.6</td>\n",
       "      <td>6</td>\n",
       "      <td>0.69465</td>\n",
       "      <td>0.0000</td>\n",
       "      <td>8</td>\n",
       "      <td>4.367250</td>\n",
       "      <td>Good</td>\n",
       "    </tr>\n",
       "    <tr>\n",
       "      <th>2</th>\n",
       "      <td>new house gaming setup sick!</td>\n",
       "      <td>4mgePWWCAmA</td>\n",
       "      <td>2022-08-23</td>\n",
       "      <td>tech</td>\n",
       "      <td>63825.0</td>\n",
       "      <td>3338.0</td>\n",
       "      <td>1564007.0</td>\n",
       "      <td>29.4</td>\n",
       "      <td>7</td>\n",
       "      <td>0.35491</td>\n",
       "      <td>-0.5562</td>\n",
       "      <td>8</td>\n",
       "      <td>4.080864</td>\n",
       "      <td>Good</td>\n",
       "    </tr>\n",
       "    <tr>\n",
       "      <th>3</th>\n",
       "      <td>petrol vs liquid nitrogen | freezing experimen...</td>\n",
       "      <td>kXiYSI7H2b0</td>\n",
       "      <td>2022-08-23</td>\n",
       "      <td>tech</td>\n",
       "      <td>71566.0</td>\n",
       "      <td>1426.0</td>\n",
       "      <td>922918.0</td>\n",
       "      <td>12.7</td>\n",
       "      <td>16</td>\n",
       "      <td>0.20926</td>\n",
       "      <td>-0.1027</td>\n",
       "      <td>8</td>\n",
       "      <td>7.754318</td>\n",
       "      <td>Good</td>\n",
       "    </tr>\n",
       "    <tr>\n",
       "      <th>4</th>\n",
       "      <td>best back school tech 2022!</td>\n",
       "      <td>ErMwWXQxHp0</td>\n",
       "      <td>2022-08-08</td>\n",
       "      <td>tech</td>\n",
       "      <td>96513.0</td>\n",
       "      <td>5155.0</td>\n",
       "      <td>1855644.0</td>\n",
       "      <td>77.3</td>\n",
       "      <td>6</td>\n",
       "      <td>0.81395</td>\n",
       "      <td>0.6696</td>\n",
       "      <td>8</td>\n",
       "      <td>5.201051</td>\n",
       "      <td>Good</td>\n",
       "    </tr>\n",
       "  </tbody>\n",
       "</table>\n",
       "</div>"
      ],
      "text/plain": [
       "                                               title     video_id  \\\n",
       "0  apple pay killing physical wallet eight years ...  wAZZ-UWGVHI   \n",
       "1                               expensive thing own.  b3x28s61q3c   \n",
       "2                       new house gaming setup sick!  4mgePWWCAmA   \n",
       "3  petrol vs liquid nitrogen | freezing experimen...  kXiYSI7H2b0   \n",
       "4                        best back school tech 2022!  ErMwWXQxHp0   \n",
       "\n",
       "  published_at keyword    likes  comments      views  avg_comm_len  title_len  \\\n",
       "0   2022-08-23    tech   3407.0     672.0   135612.0          36.6         18   \n",
       "1   2022-08-24    tech  76779.0    4306.0  1758063.0          44.6          6   \n",
       "2   2022-08-23    tech  63825.0    3338.0  1564007.0          29.4          7   \n",
       "3   2022-08-23    tech  71566.0    1426.0   922918.0          12.7         16   \n",
       "4   2022-08-08    tech  96513.0    5155.0  1855644.0          77.3          6   \n",
       "\n",
       "   avg_comm_sent  sent_title  month  like_conversion_rate like_conversion_cat  \n",
       "0        0.39121     -0.7003      8              2.512315             Neutral  \n",
       "1        0.69465      0.0000      8              4.367250                Good  \n",
       "2        0.35491     -0.5562      8              4.080864                Good  \n",
       "3        0.20926     -0.1027      8              7.754318                Good  \n",
       "4        0.81395      0.6696      8              5.201051                Good  "
      ]
     },
     "execution_count": 33,
     "metadata": {},
     "output_type": "execute_result"
    }
   ],
   "source": [
    "videos_final = videos.copy()\n",
    "videos_final.head()"
   ]
  },
  {
   "cell_type": "markdown",
   "id": "6ab68398",
   "metadata": {},
   "source": [
    "# EDA"
   ]
  },
  {
   "cell_type": "markdown",
   "id": "978e8e20",
   "metadata": {},
   "source": [
    "##### EDA for Title Length:\n",
    "-   Most titles seem to be around 7-13 in length no matter the like\n",
    "    conversion rate\n",
    "-   Videos with a neutral conversion rate have a smaller distribution of\n",
    "    title length\n",
    "-   Videos on either end have similar distribution"
   ]
  },
  {
   "cell_type": "code",
   "execution_count": 34,
   "id": "b8fe129a",
   "metadata": {},
   "outputs": [
    {
     "data": {
      "text/plain": [
       "Text(0, 0.5, 'Title Length')"
      ]
     },
     "execution_count": 34,
     "metadata": {},
     "output_type": "execute_result"
    },
    {
     "data": {
      "image/png": "[encoded data removed]",
      "text/plain": [
       "<Figure size 640x480 with 1 Axes>"
      ]
     },
     "metadata": {},
     "output_type": "display_data"
    }
   ],
   "source": [
    "ax = sns.boxplot(data=videos_final, x=\"like_conversion_cat\", y=\"title_len\", linewidth=3, palette='YlOrRd_r')\n",
    "plt.title('Distribution of Title Length per Like Conversion Rate')\n",
    "plt.xlabel(\"Like Conversion Rate\")\n",
    "plt.ylabel(\"Title Length\")"
   ]
  },
  {
   "cell_type": "markdown",
   "id": "2c6e432c",
   "metadata": {},
   "source": [
    "##### EDA for Average Comment Length:\n",
    "-   When looking at the title sentiment score, the distribution for the\n",
    "    average comment length between the three categories are similar"
   ]
  },
  {
   "cell_type": "code",
   "execution_count": 35,
   "id": "c3de21ff",
   "metadata": {},
   "outputs": [
    {
     "data": {
      "text/plain": [
       "Text(0, 0.5, 'Average Comment Length')"
      ]
     },
     "execution_count": 35,
     "metadata": {},
     "output_type": "execute_result"
    },
    {
     "data": {
      "image/png": "[encoded data removed]",
      "text/plain": [
       "<Figure size 640x480 with 1 Axes>"
      ]
     },
     "metadata": {},
     "output_type": "display_data"
    }
   ],
   "source": [
    "ax = sns.boxplot(data=videos_final, x=\"like_conversion_cat\", y=\"avg_comm_len\", linewidth=3, palette='YlOrRd_r')\n",
    "plt.title('Distribution of Average Comment Length per Like Conversion Rate')\n",
    "plt.xlabel(\"Like Conversion Rate\")\n",
    "plt.ylabel(\"Average Comment Length\")"
   ]
  },
  {
   "cell_type": "markdown",
   "id": "f946045f",
   "metadata": {},
   "source": [
    "#### EDA for Average Comment Sentiment Score:\n",
    "- When looking at the average comment sentiment score, videos in the bad like conversion rate category have a wider distribution\n",
    "- The other two categories have similar distributions"
   ]
  },
  {
   "cell_type": "code",
   "execution_count": 36,
   "id": "08a966f9",
   "metadata": {},
   "outputs": [
    {
     "data": {
      "text/plain": [
       "Text(0, 0.5, 'Average Comment Sentiment')"
      ]
     },
     "execution_count": 36,
     "metadata": {},
     "output_type": "execute_result"
    },
    {
     "data": {
      "image/png": "[encoded data removed]",
      "text/plain": [
       "<Figure size 640x480 with 1 Axes>"
      ]
     },
     "metadata": {},
     "output_type": "display_data"
    }
   ],
   "source": [
    "ax = sns.boxplot(data=videos_final, x=\"like_conversion_cat\", y=\"avg_comm_sent\", linewidth=3, palette='YlOrRd_r')\n",
    "plt.title('Distribution of Average Comment Sentiment per Like Conversion Rate')\n",
    "plt.xlabel(\"Like Conversion Rate\")\n",
    "plt.ylabel(\"Average Comment Sentiment\")"
   ]
  },
  {
   "cell_type": "markdown",
   "id": "e8eed614",
   "metadata": {},
   "source": [
    "#### EDA for Title Sentiment Score:\n",
    "- When looking at the title sentiment score the three distributions are significantly different\n",
    "- Videos with a bad like conversion rate have a wide distributions\n",
    "- Videos with a neutral like conversion rate have title sentiment scores that are too spread out to generate a boxplot\n",
    "- Videos with a good like conversion rate have a smaller distribution"
   ]
  },
  {
   "cell_type": "code",
   "execution_count": 37,
   "id": "06e1d3ac",
   "metadata": {},
   "outputs": [
    {
     "data": {
      "text/plain": [
       "Text(0, 0.5, 'Title Sentiment')"
      ]
     },
     "execution_count": 37,
     "metadata": {},
     "output_type": "execute_result"
    },
    {
     "data": {
      "image/png": "[encoded data removed]",
      "text/plain": [
       "<Figure size 640x480 with 1 Axes>"
      ]
     },
     "metadata": {},
     "output_type": "display_data"
    }
   ],
   "source": [
    "ax = sns.boxplot(data=videos_final, x=\"like_conversion_cat\", y=\"sent_title\", linewidth=3, palette='YlOrRd_r')\n",
    "plt.title('Distribution of Title Sentiment per Like Conversion Rate')\n",
    "plt.xlabel(\"Like Conversion Rate\")\n",
    "plt.ylabel(\"Title Sentiment\")"
   ]
  },
  {
   "cell_type": "markdown",
   "id": "220f5b14",
   "metadata": {},
   "source": [
    "#### EDA for Month:\n",
    "- There is a lot of videos from the dataset created in August\n",
    "- A high proportion of the videos produced in August are in the good like conversion category\n",
    "- The rest of the months do not follow this pattern"
   ]
  },
  {
   "cell_type": "code",
   "execution_count": 38,
   "id": "3514abfe",
   "metadata": {},
   "outputs": [
    {
     "data": {
      "image/png": "[encoded data removed]",
      "text/plain": [
       "<Figure size 640x480 with 1 Axes>"
      ]
     },
     "metadata": {},
     "output_type": "display_data"
    }
   ],
   "source": [
    "ax = sns.countplot(data=videos_final, x=\"month\", hue=\"like_conversion_cat\",palette='YlOrRd_r')\n",
    "plt.xlabel(\"Month\") \n",
    "plt.ylabel(\"Count\")\n",
    "plt.title(\"Videos Produced Each Month per Like Conversion Category\")\n",
    "plt.legend(title=\"Like Conversion Category\")\n",
    "ax.set_xticklabels(('Jan','Feb','Mar','Apr','May','Jun','Jul','Aug', 'Sep', 'Oct', 'Nov', 'Dec'))\n",
    "plt.show()"
   ]
  },
  {
   "cell_type": "markdown",
   "id": "6e5f93dd",
   "metadata": {},
   "source": [
    "#### EDA for Keyword:\n",
    "- There is a wide range of like conversion rate values per Keyword\n",
    "- Crypto, Reaction, and Gaming are the top three by almost a full percent\n",
    "- Some of the more broad topics like sports, news, and animals are towards the bottom"
   ]
  },
  {
   "cell_type": "code",
   "execution_count": 39,
   "id": "58e18bf2",
   "metadata": {},
   "outputs": [
    {
     "data": {
      "image/png": "[encoded data removed]",
      "text/plain": [
       "<Figure size 640x480 with 1 Axes>"
      ]
     },
     "metadata": {},
     "output_type": "display_data"
    }
   ],
   "source": [
    "viz6 = videos_final.groupby('keyword')['like_conversion_rate'].mean().sort_values(ascending=False)\n",
    "viz6 = pd.DataFrame(viz6).reset_index()\n",
    "sns.barplot(data=viz6, x='keyword', y='like_conversion_rate', palette='YlOrRd_r')\n",
    "plt.xticks(rotation=90, ha='center')\n",
    "sns.set(rc={'figure.figsize': (10, 8)})\n",
    "plt.xlabel('Keyword')\n",
    "plt.ylabel('Average Like Conversion Rate')\n",
    "plt.title(\"Barplot of Average Like Conversion Rate for Each Keyword\")\n",
    "plt.show()"
   ]
  },
  {
   "cell_type": "markdown",
   "id": "ef30347a",
   "metadata": {},
   "source": [
    "# Importing Machine Learning Libraries"
   ]
  },
  {
   "cell_type": "code",
   "execution_count": 50,
   "id": "41ffe894",
   "metadata": {},
   "outputs": [],
   "source": [
    "from sklearn import manifold\n",
    "from sklearn.pipeline import Pipeline\n",
    "from sklearn.model_selection import train_test_split\n",
    "from sklearn.metrics import accuracy_score\n",
    "from sklearn.metrics import classification_report, confusion_matrix\n",
    "from sklearn.model_selection import StratifiedShuffleSplit\n",
    "from sklearn.compose import ColumnTransformer\n",
    "from sklearn.preprocessing import OneHotEncoder\n",
    "from sklearn.preprocessing import StandardScaler\n",
    "\n",
    "from sklearn.linear_model import LinearRegression\n",
    "from sklearn.linear_model import LogisticRegression\n",
    "from sklearn.preprocessing import StandardScaler\n",
    "from sklearn.datasets import make_moons, make_circles, make_classification\n",
    "from sklearn.neural_network import MLPClassifier\n",
    "from sklearn.neighbors import KNeighborsClassifier\n",
    "from sklearn.svm import SVC\n",
    "from sklearn.gaussian_process import GaussianProcessClassifier\n",
    "from sklearn.gaussian_process.kernels import RBF\n",
    "from sklearn.tree import DecisionTreeClassifier\n",
    "from sklearn.ensemble import RandomForestClassifier, AdaBoostClassifier\n",
    "from sklearn.naive_bayes import GaussianNB\n",
    "from sklearn.discriminant_analysis import QuadraticDiscriminantAnalysis"
   ]
  },
  {
   "cell_type": "markdown",
   "id": "cd209f0d",
   "metadata": {},
   "source": [
    "# Machine Learning\n",
    "### Linear Regression Model"
   ]
  },
  {
   "cell_type": "code",
   "execution_count": 51,
   "id": "c75580ac",
   "metadata": {},
   "outputs": [],
   "source": [
    "videos_final = videos.copy()\n",
    "videos_final.drop([\"title\", \"video_id\", \"likes\", \"views\", \"published_at\", \"like_conversion_cat\"], axis=1, inplace=True)"
   ]
  },
  {
   "cell_type": "markdown",
   "id": "4350b910",
   "metadata": {},
   "source": [
    "#### Stratified Shuffle Split\n",
    "\n",
    "We decided to use a stratified shuffle split on the keyword column because during the EDA section we discovered that there was a vast range of average like conversion rates given a keyword value. Since there are no more than 50 rows of each keyword value, we decided it was necessary to complete a stratified shuffle split to make sure the train and test data sets have an accurate distribution of the different keywords."
   ]
  },
  {
   "cell_type": "code",
   "execution_count": 52,
   "id": "e24acdd3",
   "metadata": {},
   "outputs": [
    {
     "data": {
      "text/plain": [
       "keyword\n",
       "crypto              50\n",
       "tutorial            50\n",
       "cnn                 50\n",
       "interview           50\n",
       "physics             50\n",
       "trolling            50\n",
       "mrbeast             50\n",
       "data science        50\n",
       "game development    50\n",
       "sat                 49\n",
       "marvel              49\n",
       "cubes               49\n",
       "reaction            49\n",
       "asmr                49\n",
       "sports              49\n",
       "history             49\n",
       "tech                48\n",
       "nintendo            48\n",
       "computer science    48\n",
       "xbox                48\n",
       "minecraft           48\n",
       "food                48\n",
       "how-to              48\n",
       "biology             47\n",
       "chess               47\n",
       "literature          46\n",
       "business            46\n",
       "machine learning    46\n",
       "music               46\n",
       "bed                 44\n",
       "google              44\n",
       "mukbang             44\n",
       "apple               42\n",
       "gaming              42\n",
       "movies              41\n",
       "lofi                40\n",
       "news                39\n",
       "finance             39\n",
       "animals             38\n",
       "education           24\n",
       "mathchemistry       15\n",
       "Name: count, dtype: int64"
      ]
     },
     "execution_count": 52,
     "metadata": {},
     "output_type": "execute_result"
    }
   ],
   "source": [
    "videos_final.keyword.value_counts()"
   ]
  },
  {
   "cell_type": "code",
   "execution_count": 53,
   "id": "67a7fcc3",
   "metadata": {},
   "outputs": [
    {
     "data": {
      "text/plain": [
       "(1487, 8)"
      ]
     },
     "metadata": {},
     "output_type": "display_data"
    },
    {
     "data": {
      "text/plain": [
       "(372, 8)"
      ]
     },
     "metadata": {},
     "output_type": "display_data"
    }
   ],
   "source": [
    "from sklearn.model_selection import StratifiedShuffleSplit\n",
    "\n",
    "sss = StratifiedShuffleSplit(n_splits=1, test_size=0.2, random_state=42)\n",
    "for train_index, test_index in sss.split(videos_final, videos_final['keyword']):\n",
    "    strat_train_set = videos_final.iloc[train_index]\n",
    "    strat_test_set = videos_final.iloc[test_index]\n",
    "\n",
    "display(strat_train_set.shape, strat_test_set.shape)"
   ]
  },
  {
   "cell_type": "code",
   "execution_count": 54,
   "id": "32238441",
   "metadata": {},
   "outputs": [],
   "source": [
    "X = strat_train_set.drop('like_conversion_rate', axis=1)\n",
    "y = strat_train_set['like_conversion_rate']\n",
    "\n",
    "num_attribs = ['comments', 'avg_comm_len', 'sent_title', 'title_len', 'avg_comm_len']\n",
    "\n",
    "cat_attribs = ['keyword', 'month']"
   ]
  },
  {
   "cell_type": "code",
   "execution_count": 55,
   "id": "c6d8da8b",
   "metadata": {},
   "outputs": [],
   "source": [
    "full_pipeline = ColumnTransformer([\n",
    "        (\"num\", StandardScaler(), num_attribs),\n",
    "        (\"cat\", OneHotEncoder(), cat_attribs),\n",
    "    ])\n",
    "\n",
    "prep = full_pipeline.fit_transform(X)"
   ]
  },
  {
   "cell_type": "code",
   "execution_count": 56,
   "id": "f4426ad8",
   "metadata": {},
   "outputs": [
    {
     "data": {
      "text/plain": [
       "0.3651258190528145"
      ]
     },
     "execution_count": 56,
     "metadata": {},
     "output_type": "execute_result"
    }
   ],
   "source": [
    "lm = LinearRegression()\n",
    "lm.fit(prep, y)\n",
    "lm.score(prep, y)"
   ]
  },
  {
   "cell_type": "markdown",
   "id": "938338d7",
   "metadata": {},
   "source": [
    "#### Linear Regression Score\n",
    "\n",
    "Our Linear Regression model has an R^2 coefficient of 0.365, indicating that around 36.5% of the variability observed in the like conversion rate value can be explained by the regression model."
   ]
  },
  {
   "cell_type": "code",
   "execution_count": 57,
   "id": "42395ee8",
   "metadata": {},
   "outputs": [],
   "source": [
    "test_y = strat_test_set['like_conversion_rate']\n",
    "test_X = strat_test_set.drop('like_conversion_rate', axis=1)\n",
    "\n",
    "test_prep = full_pipeline.transform(test_X)"
   ]
  },
  {
   "cell_type": "code",
   "execution_count": 58,
   "id": "7868d33d",
   "metadata": {},
   "outputs": [
    {
     "data": {
      "text/plain": [
       "3.906552708285434"
      ]
     },
     "execution_count": 58,
     "metadata": {},
     "output_type": "execute_result"
    }
   ],
   "source": [
    "from sklearn.metrics import mean_squared_error\n",
    "mse = mean_squared_error(test_y, lm.predict(test_prep))\n",
    "mse"
   ]
  },
  {
   "cell_type": "code",
   "execution_count": 59,
   "id": "7c378ad7",
   "metadata": {},
   "outputs": [
    {
     "data": {
      "text/plain": [
       "1.9765001159335747"
      ]
     },
     "execution_count": 59,
     "metadata": {},
     "output_type": "execute_result"
    }
   ],
   "source": [
    "rmse = np.sqrt(mse)\n",
    "rmse"
   ]
  },
  {
   "cell_type": "code",
   "execution_count": 60,
   "id": "5fef0afd",
   "metadata": {},
   "outputs": [
    {
     "data": {
      "text/plain": [
       "count    1859.000000\n",
       "mean        3.364707\n",
       "std         2.569841\n",
       "min         0.000000\n",
       "25%         1.522041\n",
       "50%         2.755826\n",
       "75%         4.450807\n",
       "max        21.857510\n",
       "Name: like_conversion_rate, dtype: float64"
      ]
     },
     "execution_count": 60,
     "metadata": {},
     "output_type": "execute_result"
    }
   ],
   "source": [
    "videos_final.like_conversion_rate.describe()"
   ]
  },
  {
   "cell_type": "markdown",
   "id": "b1ae954c",
   "metadata": {},
   "source": [
    "#### Root Mean Squared Error\n",
    "\n",
    "Our root mean squared error value came out to 1.976, which means that on average our predictions from the linear regression model of like conversion rate deviate from the actual value by 1.976. This value falls slightly below the standard deviation of the like conversion rate distribution at 2.569. While the model isn't extremely accurate, it performs slightly better on average than picking a random value from the distribution."
   ]
  },
  {
   "cell_type": "markdown",
   "id": "dc883b0d",
   "metadata": {},
   "source": [
    "### Classification Models"
   ]
  },
  {
   "cell_type": "code",
   "execution_count": 61,
   "id": "5b963194",
   "metadata": {},
   "outputs": [],
   "source": [
    "videos_final = videos.copy()\n",
    "videos_final.drop([\"title\", \"video_id\", \"likes\", \"views\", \"published_at\", \"like_conversion_rate\"], axis=1, inplace=True)"
   ]
  },
  {
   "cell_type": "code",
   "execution_count": 62,
   "id": "97c5bb78",
   "metadata": {},
   "outputs": [],
   "source": [
    "sss = StratifiedShuffleSplit(n_splits=1, test_size=0.2, random_state=42)\n",
    "for train_index, test_index in sss.split(videos_final, videos_final['keyword']):\n",
    "    strat_train_set = videos_final.iloc[train_index]\n",
    "    strat_test_set = videos_final.iloc[test_index]\n",
    "\n",
    "X_train = strat_train_set.drop('like_conversion_cat', axis=1)\n",
    "y_train = strat_train_set['like_conversion_cat']\n",
    "X_test = strat_test_set.drop('like_conversion_cat', axis=1)\n",
    "y_test = strat_test_set['like_conversion_cat']"
   ]
  },
  {
   "cell_type": "code",
   "execution_count": 63,
   "id": "761dcd6f",
   "metadata": {},
   "outputs": [],
   "source": [
    "num_attribs = ['comments', 'avg_comm_len', 'sent_title', 'title_len', 'avg_comm_len']\n",
    "cat_attribs = ['keyword', 'month']\n",
    "\n",
    "full_pipeline = ColumnTransformer([\n",
    "        (\"num\", StandardScaler(), num_attribs),\n",
    "        (\"cat\", OneHotEncoder(), cat_attribs),\n",
    "    ])\n",
    "\n",
    "train_X_prepared = full_pipeline.fit_transform(X_train)\n",
    "test_X_prepared = full_pipeline.transform(X_test)"
   ]
  },
  {
   "cell_type": "code",
   "execution_count": 64,
   "id": "cfcc3047",
   "metadata": {},
   "outputs": [],
   "source": [
    "names = [\"Nearest Neighbors\", \"Linear SVM\", \"RBF SVM\", \n",
    "         \"Decision Tree\", \"Random Forest\", \"Neural Net\", \"AdaBoost\"]\n",
    "\n",
    "classifiers = [\n",
    "    KNeighborsClassifier(3),\n",
    "    SVC(kernel=\"linear\", C=0.025),\n",
    "    SVC(gamma=2, C=1),\n",
    "    DecisionTreeClassifier(max_depth=5),\n",
    "    RandomForestClassifier(max_depth=5, n_estimators=10, max_features=1),\n",
    "    MLPClassifier(alpha=1, max_iter=1000),\n",
    "    AdaBoostClassifier(),\n",
    "    ]"
   ]
  },
  {
   "cell_type": "code",
   "execution_count": 65,
   "id": "dc2ba451",
   "metadata": {},
   "outputs": [
    {
     "name": "stdout",
     "output_type": "stream",
     "text": [
      "Nearest Neighbors Accuracy: 50.54%\n",
      "Linear SVM Accuracy: 52.42%\n",
      "RBF SVM Accuracy: 47.04%\n",
      "Decision Tree Accuracy: 50.00%\n",
      "Random Forest Accuracy: 53.23%\n",
      "Neural Net Accuracy: 58.60%\n",
      "AdaBoost Accuracy: 54.03%\n"
     ]
    }
   ],
   "source": [
    "X_train = train_X_prepared\n",
    "X_test = test_X_prepared\n",
    "\n",
    "for name, clf in zip(names, classifiers):\n",
    "    clf.fit(X_train, y_train)\n",
    "    y_pred = clf.predict(X_test)\n",
    "    \n",
    "    # evaluate predictions\n",
    "    accuracy = clf.score(X_test, y_test)\n",
    "    print(\"%s Accuracy: %.2f%%\" % (name,accuracy * 100.0))"
   ]
  },
  {
   "cell_type": "markdown",
   "id": "8087de97",
   "metadata": {},
   "source": [
    "#### Interpreting Model Accuracy\n",
    "\n",
    "The most accurate model we created is the neural net model which has an average accuracy of classification of 59.68%. While the model isn't extremely accurate in predicting the like conversion category, more often than not, it predicts the correct category that a video falls into. The neural net model is significantly more accurate than guessing a like conversion category at random. It is not a suprise that the neural net classifier is more accurate than the other classifiers we tried, as neural nets are much more complex models, allowing them to handle more nuanced classifications. Since we saw little correlation between most features and like conversion rate, it makes sense that the neural net classification performed the strongest at predicting like conversion categories.\n",
    "\n",
    "The least accurate model is the RBF SVM. This is not a suprise, as our dataset does not make much sense to use with support vector machine models. Unlike the neural net classifier, these types of models perform better when there is a clear margin of seperation between classes, minimal noise, and are used on smaller data sets."
   ]
  },
  {
   "cell_type": "code",
   "execution_count": 66,
   "id": "59b0e020",
   "metadata": {},
   "outputs": [],
   "source": [
    "X = videos_final.drop('like_conversion_cat', axis=1)\n",
    "y = videos_final['like_conversion_cat']\n",
    "\n",
    "X_prepared = full_pipeline.fit_transform(X)"
   ]
  },
  {
   "cell_type": "code",
   "execution_count": 67,
   "id": "2ce584e1",
   "metadata": {},
   "outputs": [
    {
     "data": {
      "text/html": [
       "<style>#sk-container-id-1 {color: black;}#sk-container-id-1 pre{padding: 0;}#sk-container-id-1 div.sk-toggleable {background-color: white;}#sk-container-id-1 label.sk-toggleable__label {cursor: pointer;display: block;width: 100%;margin-bottom: 0;padding: 0.3em;box-sizing: border-box;text-align: center;}#sk-container-id-1 label.sk-toggleable__label-arrow:before {content: \"▸\";float: left;margin-right: 0.25em;color: #696969;}#sk-container-id-1 label.sk-toggleable__label-arrow:hover:before {color: black;}#sk-container-id-1 div.sk-estimator:hover label.sk-toggleable__label-arrow:before {color: black;}#sk-container-id-1 div.sk-toggleable__content {max-height: 0;max-width: 0;overflow: hidden;text-align: left;background-color: #f0f8ff;}#sk-container-id-1 div.sk-toggleable__content pre {margin: 0.2em;color: black;border-radius: 0.25em;background-color: #f0f8ff;}#sk-container-id-1 input.sk-toggleable__control:checked~div.sk-toggleable__content {max-height: 200px;max-width: 100%;overflow: auto;}#sk-container-id-1 input.sk-toggleable__control:checked~label.sk-toggleable__label-arrow:before {content: \"▾\";}#sk-container-id-1 div.sk-estimator input.sk-toggleable__control:checked~label.sk-toggleable__label {background-color: #d4ebff;}#sk-container-id-1 div.sk-label input.sk-toggleable__control:checked~label.sk-toggleable__label {background-color: #d4ebff;}#sk-container-id-1 input.sk-hidden--visually {border: 0;clip: rect(1px 1px 1px 1px);clip: rect(1px, 1px, 1px, 1px);height: 1px;margin: -1px;overflow: hidden;padding: 0;position: absolute;width: 1px;}#sk-container-id-1 div.sk-estimator {font-family: monospace;background-color: #f0f8ff;border: 1px dotted black;border-radius: 0.25em;box-sizing: border-box;margin-bottom: 0.5em;}#sk-container-id-1 div.sk-estimator:hover {background-color: #d4ebff;}#sk-container-id-1 div.sk-parallel-item::after {content: \"\";width: 100%;border-bottom: 1px solid gray;flex-grow: 1;}#sk-container-id-1 div.sk-label:hover label.sk-toggleable__label {background-color: #d4ebff;}#sk-container-id-1 div.sk-serial::before {content: \"\";position: absolute;border-left: 1px solid gray;box-sizing: border-box;top: 0;bottom: 0;left: 50%;z-index: 0;}#sk-container-id-1 div.sk-serial {display: flex;flex-direction: column;align-items: center;background-color: white;padding-right: 0.2em;padding-left: 0.2em;position: relative;}#sk-container-id-1 div.sk-item {position: relative;z-index: 1;}#sk-container-id-1 div.sk-parallel {display: flex;align-items: stretch;justify-content: center;background-color: white;position: relative;}#sk-container-id-1 div.sk-item::before, #sk-container-id-1 div.sk-parallel-item::before {content: \"\";position: absolute;border-left: 1px solid gray;box-sizing: border-box;top: 0;bottom: 0;left: 50%;z-index: -1;}#sk-container-id-1 div.sk-parallel-item {display: flex;flex-direction: column;z-index: 1;position: relative;background-color: white;}#sk-container-id-1 div.sk-parallel-item:first-child::after {align-self: flex-end;width: 50%;}#sk-container-id-1 div.sk-parallel-item:last-child::after {align-self: flex-start;width: 50%;}#sk-container-id-1 div.sk-parallel-item:only-child::after {width: 0;}#sk-container-id-1 div.sk-dashed-wrapped {border: 1px dashed gray;margin: 0 0.4em 0.5em 0.4em;box-sizing: border-box;padding-bottom: 0.4em;background-color: white;}#sk-container-id-1 div.sk-label label {font-family: monospace;font-weight: bold;display: inline-block;line-height: 1.2em;}#sk-container-id-1 div.sk-label-container {text-align: center;}#sk-container-id-1 div.sk-container {/* jupyter's `normalize.less` sets `[hidden] { display: none; }` but bootstrap.min.css set `[hidden] { display: none !important; }` so we also need the `!important` here to be able to override the default hidden behavior on the sphinx rendered scikit-learn.org. See: https://github.com/scikit-learn/scikit-learn/issues/21755 */display: inline-block !important;position: relative;}#sk-container-id-1 div.sk-text-repr-fallback {display: none;}</style><div id=\"sk-container-id-1\" class=\"sk-top-container\"><div class=\"sk-text-repr-fallback\"><pre>MLPClassifier(alpha=1, max_iter=1000)</pre><b>In a Jupyter environment, please rerun this cell to show the HTML representation or trust the notebook. <br />On GitHub, the HTML representation is unable to render, please try loading this page with nbviewer.org.</b></div><div class=\"sk-container\" hidden><div class=\"sk-item\"><div class=\"sk-estimator sk-toggleable\"><input class=\"sk-toggleable__control sk-hidden--visually\" id=\"sk-estimator-id-1\" type=\"checkbox\" checked><label for=\"sk-estimator-id-1\" class=\"sk-toggleable__label sk-toggleable__label-arrow\">MLPClassifier</label><div class=\"sk-toggleable__content\"><pre>MLPClassifier(alpha=1, max_iter=1000)</pre></div></div></div></div></div>"
      ],
      "text/plain": [
       "MLPClassifier(alpha=1, max_iter=1000)"
      ]
     },
     "execution_count": 67,
     "metadata": {},
     "output_type": "execute_result"
    }
   ],
   "source": [
    "classifier = MLPClassifier(alpha=1, max_iter=1000)\n",
    "classifier.fit(X_prepared, y)"
   ]
  },
  {
   "cell_type": "markdown",
   "id": "83c738c9",
   "metadata": {},
   "source": [
    "# Summary"
   ]
  },
  {
   "cell_type": "markdown",
   "id": "8414debf",
   "metadata": {},
   "source": [
    "-   Deciding project topic\n",
    "    -   We took too much time deciding on what we were going to do our\n",
    "        project on. If we would have had a more efficient brainstorming\n",
    "        approach it would have saved us a significant amount of time.\n",
    "-   Cleaning our data multiple times throughout the project\n",
    "    -   When we first started our project we did not do much initial\n",
    "        EDA. A consequence of this is that we had to go back and\n",
    "        re-clean our data multiple times throughout the project. For\n",
    "        example, we did not realize that there were duplicate values in\n",
    "        our dataset until we were about to create our model. If we would\n",
    "        would have dont an throughout initial EDA then it would have\n",
    "        saved us time.\n",
    "-   Inefficient feature engineering\n",
    "    -   When we first started feature engineering we were creating any\n",
    "        column that came to mind. This was a waste of time and energy.\n",
    "        We should have sat down as a time and brainstomed a list of\n",
    "        features that might have been interesting instead of\n",
    "        implementing them right away.\n",
    "    -   When creating the like_conversion_rate we should have taken into\n",
    "        account that people can like a video only once, but are able to\n",
    "        watch the video multiple times. This influenced our model\n",
    "        slightly. We knew we did not want to just do like count because\n",
    "        that might have bias toward people with more subscribers, so we\n",
    "        should have brainstormed more about what we wanted to find to\n",
    "        classify a good and bad video.\n",
    "-   Not much correlation\n",
    "    -   Throughout our EDA and ML model we realized that our variables\n",
    "        did not have much correlation. Even though this is a finding in\n",
    "        itself, it would have been more rewarding to work on a topic\n",
    "        that had more correlation. We should have done some initial\n",
    "        correlation analysis on multiple datasets to find one that might\n",
    "        be more rewarding.\n",
    "\n",
    "In the future, for this specific project it might be useful to bring in\n",
    "outside data if it is accessible and merge it with this dataset. I think\n",
    "the model would perform a lot better if it had other metric including\n",
    "Video Length, Thumbnail, Dislikes, Watchtime, Play Rate, Social Shares.\n",
    "These are all things that go into showing whether a video will perform\n",
    "well or not because we know that people can only like a video once but\n",
    "can watch it multiple times. It would also be interesting to use\n",
    "Youtube's free data api to scrape for more data about each of the\n",
    "videos. The addition of this outside data would have gotten rid of the\n",
    "uncertainty and bias of people being able to watch a video multiple\n",
    "times while only being able to like it once. With more time and\n",
    "resources the accuracy for predicting the classification of the video\n",
    "can be improved drastically."
   ]
  }
 ],
 "metadata": {
  "kernelspec": {
   "display_name": "Python 3 (ipykernel)",
   "language": "python",
   "name": "python3"
  },
  "language_info": {
   "codemirror_mode": {
    "name": "ipython",
    "version": 3
   },
   "file_extension": ".py",
   "mimetype": "text/x-python",
   "name": "python",
   "nbconvert_exporter": "python",
   "pygments_lexer": "ipython3",
   "version": "3.11.6"
  }
 },
 "nbformat": 4,
 "nbformat_minor": 5
}
